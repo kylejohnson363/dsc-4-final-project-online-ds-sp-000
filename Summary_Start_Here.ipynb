{
 "cells": [
  {
   "cell_type": "markdown",
   "metadata": {},
   "source": [
    "#  Predicting the Price Movement of Stocks using Image Classification\n",
    "Module 4 Final Project\n",
    "Kyle Johnson\n",
    "\n",
    "For this project we were tasked with creating a neural network to solve a classification problem.  The problem that I have chosen is predicting a stock's movement 10 days into the future by using convolutional neural networks on stock chart images.  I approach this as both a multiclass problem and a binary problem.  Please follow along with the notebooks that detail this process.\n",
    "\n",
    "#### Notebook 1 - Data Gathering\n",
    "Please see the notebook titled \"Data_Gathering\". In this notebook I use a Yahoo Finance API to source historical daily price data going back to 2010 on the 30 stocks in the Dow Jones Industrial Average and then create stock chart images and other attributes to be used in modeling.\n",
    "\n",
    "#### Notebook 2 - CNN Multi-Categorical Classification\n",
    "Please see the notebook titled \"CNN_Multi_Classification\".  In this notebook I create multi-categorical classification model that attempts to predict the direction and magnitude of a stock's movement.  For this model I define success as creating predictions whose standard deviation of error is less than the standard deviation of returns for all trades.\n",
    "\n",
    "#### Notebook 3 - CNN Binary Classification\n",
    "Please see the notebook titled \"CNN_Binary_Classification\".  In this notebook I create a binary classification model that attempts to predict if a stock will be higher or lower 10 days into the future.  For this model I define success as creating predictions that lead to trading profits that exceed the benchmark of the Dow Jones Industrial Average itself.\n",
    "\n",
    "## Summary of Findings:\n",
    "- In the CNN multi-categorial classification model we achieved our goal of making a model with a smaller standard deviation of error than all stock's standard deviation of returns.  This may seem useless on its surface but a model that can consistently do this would be of enourmous benefit to options traders due to the ability to take limited risk positions that have large payouts if the underlying stock lands in a specific zone.\n",
    "- In the CNN binary classification model we achieved our goal of making predictions that outperform the Dow Jones Industrial Average.  The model outperformed in bullish and bearish markets and if these results can be repeated in live trading, would be of great benefit to traders, investors and money managers.\n",
    "\n",
    "## Further Study:\n",
    "While these models did provide compelling results, it would take a fool to put real money at risk using these techniques alone and I advise against it in the strongest possible way.  \n",
    "\n",
    "Areas of further study:\n",
    "- The architecture of the neural network in order to optimizethe model for reading stock chart images.  \n",
    "- The size (days included in each chart), detail (number of pixels), data (include volume and other data) and indicators contained within the input images.  \n",
    "- The number of stocks to include.  Further study should include stocks that are no longer in the Dow Jones or even no longer publically traded in order to avoid survivorship bias. "
   ]
  },
  {
   "cell_type": "code",
   "execution_count": null,
   "metadata": {},
   "outputs": [],
   "source": []
  }
 ],
 "metadata": {
  "kernelspec": {
   "display_name": "Python 3",
   "language": "python",
   "name": "python3"
  },
  "language_info": {
   "codemirror_mode": {
    "name": "ipython",
    "version": 3
   },
   "file_extension": ".py",
   "mimetype": "text/x-python",
   "name": "python",
   "nbconvert_exporter": "python",
   "pygments_lexer": "ipython3",
   "version": "3.7.3"
  }
 },
 "nbformat": 4,
 "nbformat_minor": 2
}
